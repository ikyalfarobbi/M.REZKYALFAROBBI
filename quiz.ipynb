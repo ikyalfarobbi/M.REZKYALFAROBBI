{
 "cells": [
  {
   "cell_type": "code",
   "execution_count": null,
   "metadata": {},
   "outputs": [],
   "source": [
    "# List awal\n",
    "my_list = [1, 2, 3, 4, 5, 6, 7, 8, 9, 10]\n",
    "\n",
    "# Menambahkan elemen 5 pada indeks 5\n",
    "my_list.insert(5, 5)\n",
    "print(\"List setelah menambahkan elemen 5 pada indeks 5:\", my_list)\n",
    "\n",
    "# Menghapus elemen dengan nilai 4\n",
    "my_list.remove(4)\n",
    "print(\"List setelah menghapus elemen dengan nilai 4:\", my_list)\n",
    "\n",
    "# Memisahkan list menjadi 2 dengan split index 5\n",
    "split_index = 5\n",
    "list1 = my_list[:split_index]\n",
    "list2 = my_list[split_index:]\n",
    "print(\"List setelah dipisahkan menjadi 2 dengan split index 5:\", list1, list2)\n",
    "\n",
    "# Memisahkan list menjadi 3 dengan split index 3\n",
    "split_index = 3\n",
    "list1 = my_list[:split_index]\n",
    "list2 = my_list[split_index:]\n",
    "print(\"List setelah dipisahkan menjadi 3 dengan split index 3:\", list1, list2)\n",
    "\n",
    "# Membalikkan nilai list\n",
    "reversed_list = my_list[::-1]\n",
    "print(\"List setelah dibalikkan:\", reversed_list)\n",
    "\n",
    "# Mengambil elemen dari indeks ke-0 hingga ke-6 dengan langkah 3\n",
    "sliced_list = my_list[0:7:3]\n",
    "print(\"Elemen dari indeks ke-0 hingga ke-6 dengan langkah 3:\", sliced_list)\n"
   ]
  }
 ],
 "metadata": {
  "kernelspec": {
   "display_name": "Python 3",
   "language": "python",
   "name": "python3"
  },
  "language_info": {
   "name": "python",
   "version": "3.12.2"
  }
 },
 "nbformat": 4,
 "nbformat_minor": 2
}
